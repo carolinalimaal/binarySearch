{
 "cells": [
  {
   "cell_type": "code",
   "execution_count": 5,
   "metadata": {},
   "outputs": [
    {
     "name": "stdout",
     "output_type": "stream",
     "text": [
      "(-1, 'Valor não encontrado')\n",
      "0.00199961662292480469\n"
     ]
    }
   ],
   "source": [
    "import time as t\n",
    "\n",
    "inicial = t.time()\n",
    "\n",
    "def recursiveBinarySearch(array, begin, end, value):\n",
    "    while begin <= end:\n",
    "        middle = (begin + end) // 2\n",
    "        if value == array[middle]:\n",
    "            return middle, 'Valor encontrado'\n",
    "        if value > array[middle]:\n",
    "            return recursiveBinarySearch(array, middle+1, end, value)\n",
    "        else:\n",
    "            return recursiveBinarySearch(array, begin, middle-1, value)\n",
    "    return -1, 'Valor não encontrado'\n",
    "\n",
    "vetor = [1 for _ in range(100000)]\n",
    "\n",
    "test = recursiveBinarySearch(vetor, 0, len(vetor), 0)\n",
    "\n",
    "final = t.time()\n",
    "\n",
    "print(test)\n",
    "print(f'{(final - inicial):.20f}')"
   ]
  }
 ],
 "metadata": {
  "kernelspec": {
   "display_name": "Python 3",
   "language": "python",
   "name": "python3"
  },
  "language_info": {
   "codemirror_mode": {
    "name": "ipython",
    "version": 3
   },
   "file_extension": ".py",
   "mimetype": "text/x-python",
   "name": "python",
   "nbconvert_exporter": "python",
   "pygments_lexer": "ipython3",
   "version": "3.11.2"
  }
 },
 "nbformat": 4,
 "nbformat_minor": 2
}
